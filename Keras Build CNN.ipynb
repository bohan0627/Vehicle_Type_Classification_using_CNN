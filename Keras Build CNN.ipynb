{
 "cells": [
  {
   "cell_type": "markdown",
   "metadata": {},
   "source": [
    "# CNN"
   ]
  },
  {
   "cell_type": "code",
   "execution_count": 1,
   "metadata": {},
   "outputs": [
    {
     "name": "stderr",
     "output_type": "stream",
     "text": [
      "Using TensorFlow backend.\n"
     ]
    }
   ],
   "source": [
    "import numpy as np\n",
    "import os, sys\n",
    "from pathlib import Path\n",
    "import pandas as pd\n",
    "import seaborn as sns\n",
    "from IPython.display import display\n",
    "%matplotlib inline\n",
    "from sklearn.model_selection import train_test_split\n",
    "import keras\n",
    "from keras.preprocessing import image\n",
    "from keras.utils import np_utils\n",
    "from keras.models import Sequential\n",
    "from keras.layers import Dense, Dropout, Activation, Flatten\n",
    "from keras.layers import Conv2D, MaxPooling2D, BatchNormalization\n",
    "from keras.optimizers import Adam\n",
    "from keras.callbacks import ReduceLROnPlateau, CSVLogger, EarlyStopping,LearningRateScheduler, ModelCheckpoint\n",
    "import math"
   ]
  },
  {
   "cell_type": "code",
   "execution_count": 2,
   "metadata": {},
   "outputs": [
    {
     "data": {
      "text/plain": [
       "(9850, 32, 32, 3)"
      ]
     },
     "execution_count": 2,
     "metadata": {},
     "output_type": "execute_result"
    }
   ],
   "source": [
    "X_list = []\n",
    "for filename in sorted(os.listdir('./Dataset_Resize/')):\n",
    "    img = image.load_img(Path('./Dataset_Resize/', filename), target_size=(32, 32))\n",
    "    X_list.append(image.img_to_array(img))\n",
    "X = np.array(X_list)\n",
    "X.shape"
   ]
  },
  {
   "cell_type": "code",
   "execution_count": 3,
   "metadata": {},
   "outputs": [
    {
     "data": {
      "text/plain": [
       "(9850, 6)"
      ]
     },
     "execution_count": 3,
     "metadata": {},
     "output_type": "execute_result"
    }
   ],
   "source": [
    "df = pd.read_csv('./vehicles.csv', index_col=0)\n",
    "df_dummy = pd.get_dummies(df['Vehicle_Type'])\n",
    "Y = np.array(df_dummy)\n",
    "Y.shape"
   ]
  },
  {
   "cell_type": "code",
   "execution_count": 4,
   "metadata": {},
   "outputs": [
    {
     "name": "stdout",
     "output_type": "stream",
     "text": [
      "(8865, 32, 32, 3) (8865, 6)\n",
      "(985, 32, 32, 3) (985, 6)\n"
     ]
    }
   ],
   "source": [
    "X_train, X_test, Y_train, Y_test = train_test_split(X, Y, test_size=0.1)\n",
    "print(X_train.shape, Y_train.shape)\n",
    "print(X_test.shape, Y_test.shape)"
   ]
  },
  {
   "cell_type": "code",
   "execution_count": 10,
   "metadata": {
    "collapsed": true
   },
   "outputs": [],
   "source": [
    "def get_model(input_shape):\n",
    "    model = Sequential()\n",
    "    model.add(Conv2D(32, (3, 3), padding='same', input_shape=input_shape, name='Conv1-1'))\n",
    "    model.add(Activation('relu', name='ReLU1-1'))\n",
    "    model.add(Conv2D(32, (3, 3), name='Conv1-2'))\n",
    "    model.add(Activation('relu', name='ReLU1-2'))\n",
    "    model.add(MaxPooling2D(pool_size=(3, 3), name='MaxPool1'))\n",
    "    model.add(Dropout(0.25))\n",
    "\n",
    "    model.add(Conv2D(64, (3, 3), padding='same'))\n",
    "    model.add(Activation('relu'))\n",
    "    model.add(Conv2D(64, (3, 3)))\n",
    "    model.add(Activation('relu'))\n",
    "    model.add(MaxPooling2D(pool_size=(3, 3)))\n",
    "    model.add(Dropout(0.25))\n",
    "\n",
    "    model.add(Flatten())\n",
    "    model.add(Dense(512))\n",
    "    model.add(Activation('relu'))\n",
    "    model.add(Dropout(0.5))\n",
    "    model.add(Dense(6))\n",
    "    model.add(Activation('softmax'))\n",
    "    \n",
    "    opt = keras.optimizers.Adam(lr=0.0001, beta_1=0.9, beta_2=0.999, epsilon=1e-08, decay=1e-6)\n",
    "    model.compile(loss='categorical_crossentropy', optimizer=opt, metrics=['accuracy'])\n",
    "    \n",
    "    return model"
   ]
  },
  {
   "cell_type": "code",
   "execution_count": 6,
   "metadata": {
    "collapsed": true
   },
   "outputs": [],
   "source": [
    "early_Stopping = EarlyStopping(\n",
    "    monitor='val_acc', \n",
    "    patience=5, \n",
    "    verbose=1, \n",
    "    mode='auto'\n",
    ")\n",
    "reduceLR = ReduceLROnPlateau(monitor='val_loss', factor=0.1, patience=5, verbose=0, mode='auto', epsilon=0.0001, cooldown=0, min_lr=0)\n",
    "checkpointer = ModelCheckpoint(filepath=\"CNN.hdf5\", verbose=1, save_best_only = True)\n",
    "csv = CSVLogger('CNN.csv')"
   ]
  },
  {
   "cell_type": "code",
   "execution_count": 11,
   "metadata": {
    "collapsed": true
   },
   "outputs": [],
   "source": [
    "model = get_model((32, 32, 3))"
   ]
  },
  {
   "cell_type": "code",
   "execution_count": 12,
   "metadata": {
    "scrolled": false
   },
   "outputs": [
    {
     "name": "stdout",
     "output_type": "stream",
     "text": [
      "Train on 8865 samples, validate on 985 samples\n",
      "Epoch 1/80\n",
      "8865/8865 [==============================] - 40s 5ms/step - loss: 6.9580 - acc: 0.5595 - val_loss: 6.6109 - val_acc: 0.5898\n",
      "\n",
      "Epoch 00001: saving model to CNN.hdf5\n",
      "Epoch 2/80\n",
      "8865/8865 [==============================] - 39s 4ms/step - loss: 6.6733 - acc: 0.5858 - val_loss: 6.6109 - val_acc: 0.5898\n",
      "\n",
      "Epoch 00002: saving model to CNN.hdf5\n",
      "Epoch 3/80\n",
      "8865/8865 [==============================] - 40s 5ms/step - loss: 6.6725 - acc: 0.5860 - val_loss: 6.6109 - val_acc: 0.5898\n",
      "\n",
      "Epoch 00003: saving model to CNN.hdf5\n",
      "Epoch 4/80\n",
      "8865/8865 [==============================] - 42s 5ms/step - loss: 6.6735 - acc: 0.5859 - val_loss: 6.6109 - val_acc: 0.5898\n",
      "\n",
      "Epoch 00004: saving model to CNN.hdf5\n",
      "Epoch 5/80\n",
      "8865/8865 [==============================] - 44s 5ms/step - loss: 6.6746 - acc: 0.5857 - val_loss: 6.6109 - val_acc: 0.5898\n",
      "\n",
      "Epoch 00005: saving model to CNN.hdf5\n",
      "Epoch 6/80\n",
      "8865/8865 [==============================] - 48s 5ms/step - loss: 6.6727 - acc: 0.5860 - val_loss: 6.6109 - val_acc: 0.5898\n",
      "\n",
      "Epoch 00006: saving model to CNN.hdf5\n",
      "Epoch 00006: early stopping\n"
     ]
    },
    {
     "data": {
      "text/plain": [
       "<keras.callbacks.History at 0x108e910b8>"
      ]
     },
     "execution_count": 12,
     "metadata": {},
     "output_type": "execute_result"
    }
   ],
   "source": [
    "model.fit(X_train, \n",
    "          Y_train,\n",
    "          batch_size=64,\n",
    "          epochs=80,\n",
    "          validation_data=(X_test, Y_test),\n",
    "          callbacks=[early_Stopping,reduceLR,checkpointer,csv])"
   ]
  },
  {
   "cell_type": "code",
   "execution_count": 13,
   "metadata": {},
   "outputs": [
    {
     "data": {
      "text/plain": [
       "<matplotlib.axes._subplots.AxesSubplot at 0x1a25817f98>"
      ]
     },
     "metadata": {},
     "output_type": "display_data"
    },
    {
     "data": {
      "image/png": "[encoded data removed]",
      "text/plain": [
       "<matplotlib.figure.Figure at 0x1a25817860>"
      ]
     },
     "metadata": {},
     "output_type": "display_data"
    }
   ],
   "source": [
    "df = pd.read_csv('CNN.csv', index_col='epoch')\n",
    "display(df[['acc', 'val_acc']].plot())"
   ]
  }
 ],
 "metadata": {
  "kernelspec": {
   "display_name": "Python 3",
   "language": "python",
   "name": "python3"
  },
  "language_info": {
   "codemirror_mode": {
    "name": "ipython",
    "version": 3
   },
   "file_extension": ".py",
   "mimetype": "text/x-python",
   "name": "python",
   "nbconvert_exporter": "python",
   "pygments_lexer": "ipython3",
   "version": "3.6.3"
  }
 },
 "nbformat": 4,
 "nbformat_minor": 2
}
