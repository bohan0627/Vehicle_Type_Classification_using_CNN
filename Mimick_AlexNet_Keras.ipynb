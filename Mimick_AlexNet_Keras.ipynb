{
 "cells": [
  {
   "cell_type": "markdown",
   "metadata": {},
   "source": [
    "# CNN"
   ]
  },
  {
   "cell_type": "code",
   "execution_count": 1,
   "metadata": {},
   "outputs": [
    {
     "name": "stderr",
     "output_type": "stream",
     "text": [
      "/home/ubuntu/anaconda3/lib/python3.6/site-packages/matplotlib/__init__.py:962: UserWarning: Duplicate key in file \"/home/ubuntu/.config/matplotlib/matplotlibrc\", line #2\n",
      "  (fname, cnt))\n",
      "/home/ubuntu/anaconda3/lib/python3.6/site-packages/matplotlib/__init__.py:962: UserWarning: Duplicate key in file \"/home/ubuntu/.config/matplotlib/matplotlibrc\", line #3\n",
      "  (fname, cnt))\n",
      "/home/ubuntu/anaconda3/lib/python3.6/site-packages/h5py/__init__.py:34: FutureWarning: Conversion of the second argument of issubdtype from `float` to `np.floating` is deprecated. In future, it will be treated as `np.float64 == np.dtype(float).type`.\n",
      "  from ._conv import register_converters as _register_converters\n",
      "Using TensorFlow backend.\n"
     ]
    }
   ],
   "source": [
    "import numpy as np\n",
    "import os, sys\n",
    "from pathlib import Path\n",
    "import pandas as pd\n",
    "from sklearn.model_selection import train_test_split\n",
    "import keras\n",
    "from keras.preprocessing import image\n",
    "from keras.utils import np_utils\n",
    "from keras.models import Sequential\n",
    "from keras.layers import Dense, Dropout, Activation, Flatten\n",
    "from keras.layers import Conv2D, MaxPooling2D, BatchNormalization\n",
    "from keras.optimizers import Adam\n",
    "from keras.callbacks import ReduceLROnPlateau, CSVLogger, EarlyStopping,LearningRateScheduler, ModelCheckpoint\n",
    "import math"
   ]
  },
  {
   "cell_type": "code",
   "execution_count": 10,
   "metadata": {},
   "outputs": [
    {
     "data": {
      "text/plain": [
       "(9850, 64, 64, 3)"
      ]
     },
     "execution_count": 10,
     "metadata": {},
     "output_type": "execute_result"
    }
   ],
   "source": [
    "X_list = []\n",
    "for filename in sorted(os.listdir('./Dataset_Resize/')):\n",
    "    img = image.load_img(Path('./Dataset_Resize/', filename), target_size=(64, 64))\n",
    "    X_list.append(image.img_to_array(img))\n",
    "X = np.array(X_list)\n",
    "X.shape"
   ]
  },
  {
   "cell_type": "code",
   "execution_count": 11,
   "metadata": {},
   "outputs": [
    {
     "data": {
      "text/plain": [
       "(9850, 6)"
      ]
     },
     "execution_count": 11,
     "metadata": {},
     "output_type": "execute_result"
    }
   ],
   "source": [
    "df = pd.read_csv('./vehicles.csv', index_col=0)\n",
    "df_dummy = pd.get_dummies(df['Vehicle_Type'])\n",
    "Y = np.array(df_dummy)\n",
    "Y.shape"
   ]
  },
  {
   "cell_type": "code",
   "execution_count": 12,
   "metadata": {},
   "outputs": [
    {
     "name": "stdout",
     "output_type": "stream",
     "text": [
      "(8865, 64, 64, 3) (8865, 6)\n",
      "(985, 64, 64, 3) (985, 6)\n"
     ]
    }
   ],
   "source": [
    "X_train, X_test, Y_train, Y_test = train_test_split(X, Y, test_size=0.1)\n",
    "print(X_train.shape, Y_train.shape)\n",
    "print(X_test.shape, Y_test.shape)"
   ]
  },
  {
   "cell_type": "code",
   "execution_count": 13,
   "metadata": {},
   "outputs": [],
   "source": [
    "def AlexNet(input_shape):\n",
    "    model = Sequential()\n",
    "    # model.add(Conv2D(96, (11,11), strides=(4,4), activation='relu', padding='same', input_shape=input_shape))\n",
    "    # for original Alexnet\n",
    "    model.add(Conv2D(96, (3,3), strides=(2,2), activation='relu', padding='same', input_shape=input_shape))\n",
    "    model.add(MaxPooling2D(pool_size=(2, 2), strides=(2,2)))\n",
    "    # Local Response normalization for Original Alexnet\n",
    "    model.add(BatchNormalization())\n",
    "\n",
    "    model.add(Conv2D(256, (5,5), activation='relu', padding='same'))\n",
    "    model.add(MaxPooling2D(pool_size=(3, 3), strides=(2,2)))\n",
    "    model.add(BatchNormalization())\n",
    "\n",
    "    model.add(Conv2D(384, (3,3), activation='relu', padding='same'))\n",
    "    model.add(Conv2D(384, (3,3), activation='relu', padding='same'))\n",
    "    model.add(Conv2D(256, (3,3), activation='relu', padding='same'))\n",
    "    model.add(MaxPooling2D(pool_size=(3, 3), strides=(2,2)))\n",
    "    model.add(BatchNormalization())\n",
    "\n",
    "    model.add(Flatten())\n",
    "    model.add(Dense(4096, activation='tanh'))\n",
    "    model.add(Dropout(0.5))\n",
    "    model.add(Dense(4096, activation='tanh'))\n",
    "    model.add(Dropout(0.5))\n",
    "    model.add(Dense(6, activation='softmax'))\n",
    "\n",
    "    # determine Loss function and Optimizer\n",
    "    model.compile(loss='categorical_crossentropy',\n",
    "                  optimizer=Adam(),\n",
    "                  metrics=['accuracy'])\n",
    "    return model;"
   ]
  },
  {
   "cell_type": "code",
   "execution_count": 14,
   "metadata": {},
   "outputs": [
    {
     "name": "stdout",
     "output_type": "stream",
     "text": [
      "_________________________________________________________________\n",
      "Layer (type)                 Output Shape              Param #   \n",
      "=================================================================\n",
      "conv2d_6 (Conv2D)            (None, 32, 32, 96)        2688      \n",
      "_________________________________________________________________\n",
      "max_pooling2d_4 (MaxPooling2 (None, 16, 16, 96)        0         \n",
      "_________________________________________________________________\n",
      "batch_normalization_4 (Batch (None, 16, 16, 96)        384       \n",
      "_________________________________________________________________\n",
      "conv2d_7 (Conv2D)            (None, 16, 16, 256)       614656    \n",
      "_________________________________________________________________\n",
      "max_pooling2d_5 (MaxPooling2 (None, 7, 7, 256)         0         \n",
      "_________________________________________________________________\n",
      "batch_normalization_5 (Batch (None, 7, 7, 256)         1024      \n",
      "_________________________________________________________________\n",
      "conv2d_8 (Conv2D)            (None, 7, 7, 384)         885120    \n",
      "_________________________________________________________________\n",
      "conv2d_9 (Conv2D)            (None, 7, 7, 384)         1327488   \n",
      "_________________________________________________________________\n",
      "conv2d_10 (Conv2D)           (None, 7, 7, 256)         884992    \n",
      "_________________________________________________________________\n",
      "max_pooling2d_6 (MaxPooling2 (None, 3, 3, 256)         0         \n",
      "_________________________________________________________________\n",
      "batch_normalization_6 (Batch (None, 3, 3, 256)         1024      \n",
      "_________________________________________________________________\n",
      "flatten_2 (Flatten)          (None, 2304)              0         \n",
      "_________________________________________________________________\n",
      "dense_4 (Dense)              (None, 4096)              9441280   \n",
      "_________________________________________________________________\n",
      "dropout_3 (Dropout)          (None, 4096)              0         \n",
      "_________________________________________________________________\n",
      "dense_5 (Dense)              (None, 4096)              16781312  \n",
      "_________________________________________________________________\n",
      "dropout_4 (Dropout)          (None, 4096)              0         \n",
      "_________________________________________________________________\n",
      "dense_6 (Dense)              (None, 6)                 24582     \n",
      "=================================================================\n",
      "Total params: 29,964,550\n",
      "Trainable params: 29,963,334\n",
      "Non-trainable params: 1,216\n",
      "_________________________________________________________________\n"
     ]
    }
   ],
   "source": [
    "model_Alex = AlexNet((64,64,3))\n",
    "model_Alex.summary()"
   ]
  },
  {
   "cell_type": "code",
   "execution_count": 15,
   "metadata": {},
   "outputs": [],
   "source": [
    "early_Stopping = EarlyStopping(\n",
    "    monitor='val_loss', \n",
    "    patience=5, \n",
    "    verbose=1, \n",
    "    mode='auto'\n",
    ")\n",
    "reduceLR = ReduceLROnPlateau(monitor='val_loss', factor=0.1, patience=5, verbose=1, mode='auto', epsilon=0.0001, cooldown=0, min_lr=0)\n",
    "checkpointer = ModelCheckpoint(filepath=\"AlexNet.hdf5\", verbose=1, save_best_only = True)\n",
    "csv = CSVLogger('AlexNet.csv')"
   ]
  },
  {
   "cell_type": "code",
   "execution_count": 16,
   "metadata": {
    "scrolled": false
   },
   "outputs": [
    {
     "name": "stdout",
     "output_type": "stream",
     "text": [
      "Train on 8865 samples, validate on 985 samples\n",
      "Epoch 1/100\n",
      "8865/8865 [==============================] - 209s 24ms/step - loss: 5.7496 - acc: 0.5724 - val_loss: 4.4643 - val_acc: 0.3472\n",
      "\n",
      "Epoch 00001: val_loss improved from inf to 4.46425, saving model to AlexNet.hdf5\n",
      "Epoch 2/100\n",
      "8865/8865 [==============================] - 204s 23ms/step - loss: 2.2599 - acc: 0.6076 - val_loss: 1.0721 - val_acc: 0.6284\n",
      "\n",
      "Epoch 00002: val_loss improved from 4.46425 to 1.07212, saving model to AlexNet.hdf5\n",
      "Epoch 3/100\n",
      "8865/8865 [==============================] - 206s 23ms/step - loss: 1.0425 - acc: 0.7011 - val_loss: 1.0436 - val_acc: 0.7218\n",
      "\n",
      "Epoch 00003: val_loss improved from 1.07212 to 1.04357, saving model to AlexNet.hdf5\n",
      "Epoch 4/100\n",
      "8865/8865 [==============================] - 205s 23ms/step - loss: 0.7551 - acc: 0.7769 - val_loss: 1.0968 - val_acc: 0.7360\n",
      "\n",
      "Epoch 00004: val_loss did not improve\n",
      "Epoch 5/100\n",
      "8865/8865 [==============================] - 206s 23ms/step - loss: 0.6339 - acc: 0.8131 - val_loss: 0.9768 - val_acc: 0.7645\n",
      "\n",
      "Epoch 00005: val_loss improved from 1.04357 to 0.97682, saving model to AlexNet.hdf5\n",
      "Epoch 6/100\n",
      "8865/8865 [==============================] - 205s 23ms/step - loss: 0.5248 - acc: 0.8479 - val_loss: 0.4876 - val_acc: 0.8345\n",
      "\n",
      "Epoch 00006: val_loss improved from 0.97682 to 0.48761, saving model to AlexNet.hdf5\n",
      "Epoch 7/100\n",
      "8865/8865 [==============================] - 204s 23ms/step - loss: 0.4242 - acc: 0.8676 - val_loss: 0.5047 - val_acc: 0.8528\n",
      "\n",
      "Epoch 00007: val_loss did not improve\n",
      "Epoch 8/100\n",
      "8865/8865 [==============================] - 207s 23ms/step - loss: 0.3533 - acc: 0.8929 - val_loss: 0.4185 - val_acc: 0.8569\n",
      "\n",
      "Epoch 00008: val_loss improved from 0.48761 to 0.41852, saving model to AlexNet.hdf5\n",
      "Epoch 9/100\n",
      "8865/8865 [==============================] - 205s 23ms/step - loss: 0.2971 - acc: 0.9086 - val_loss: 0.4847 - val_acc: 0.8497\n",
      "\n",
      "Epoch 00009: val_loss did not improve\n",
      "Epoch 10/100\n",
      "8865/8865 [==============================] - 205s 23ms/step - loss: 0.2761 - acc: 0.9174 - val_loss: 0.5475 - val_acc: 0.8518\n",
      "\n",
      "Epoch 00010: val_loss did not improve\n",
      "Epoch 11/100\n",
      "8865/8865 [==============================] - 207s 23ms/step - loss: 0.2377 - acc: 0.9276 - val_loss: 0.4540 - val_acc: 0.8670\n",
      "\n",
      "Epoch 00011: val_loss did not improve\n",
      "Epoch 12/100\n",
      "8865/8865 [==============================] - 205s 23ms/step - loss: 0.1989 - acc: 0.9382 - val_loss: 0.3434 - val_acc: 0.8975\n",
      "\n",
      "Epoch 00012: val_loss improved from 0.41852 to 0.34344, saving model to AlexNet.hdf5\n",
      "Epoch 13/100\n",
      "8865/8865 [==============================] - 212s 24ms/step - loss: 0.1880 - acc: 0.9424 - val_loss: 0.4307 - val_acc: 0.8883\n",
      "\n",
      "Epoch 00013: val_loss did not improve\n",
      "Epoch 14/100\n",
      "8865/8865 [==============================] - 207s 23ms/step - loss: 0.1569 - acc: 0.9522 - val_loss: 0.5009 - val_acc: 0.8619\n",
      "\n",
      "Epoch 00014: val_loss did not improve\n",
      "Epoch 15/100\n",
      "8865/8865 [==============================] - 207s 23ms/step - loss: 0.1170 - acc: 0.9614 - val_loss: 0.3707 - val_acc: 0.8964\n",
      "\n",
      "Epoch 00015: val_loss did not improve\n",
      "Epoch 16/100\n",
      "8865/8865 [==============================] - 203s 23ms/step - loss: 0.1308 - acc: 0.9604 - val_loss: 0.3029 - val_acc: 0.9259\n",
      "\n",
      "Epoch 00016: val_loss improved from 0.34344 to 0.30289, saving model to AlexNet.hdf5\n",
      "Epoch 17/100\n",
      "8865/8865 [==============================] - 208s 23ms/step - loss: 0.1135 - acc: 0.9663 - val_loss: 0.3308 - val_acc: 0.9147\n",
      "\n",
      "Epoch 00017: val_loss did not improve\n",
      "Epoch 18/100\n",
      "8865/8865 [==============================] - 205s 23ms/step - loss: 0.0658 - acc: 0.9789 - val_loss: 0.3567 - val_acc: 0.9147\n",
      "\n",
      "Epoch 00018: val_loss did not improve\n",
      "Epoch 19/100\n",
      "8865/8865 [==============================] - 203s 23ms/step - loss: 0.0514 - acc: 0.9827 - val_loss: 0.3986 - val_acc: 0.9076\n",
      "\n",
      "Epoch 00019: val_loss did not improve\n",
      "Epoch 20/100\n",
      "8865/8865 [==============================] - 209s 24ms/step - loss: 0.0760 - acc: 0.9764 - val_loss: 0.6191 - val_acc: 0.8467\n",
      "\n",
      "Epoch 00020: val_loss did not improve\n",
      "Epoch 21/100\n",
      "8865/8865 [==============================] - 204s 23ms/step - loss: 0.0601 - acc: 0.9803 - val_loss: 0.4782 - val_acc: 0.9096\n",
      "\n",
      "Epoch 00021: val_loss did not improve\n",
      "Epoch 00021: early stopping\n"
     ]
    }
   ],
   "source": [
    "history = model_Alex.fit(X_train, Y_train,\n",
    "                       batch_size=256,\n",
    "                       epochs=100,\n",
    "                       verbose=1,\n",
    "                       validation_data=(X_test, Y_test),\n",
    "                       shuffle=True,\n",
    "                       callbacks=[early_Stopping,reduceLR,checkpointer,csv])"
   ]
  },
  {
   "cell_type": "code",
   "execution_count": 17,
   "metadata": {},
   "outputs": [
    {
     "name": "stdout",
     "output_type": "stream",
     "text": [
      "Test loss: 0.47822116822155597\n",
      "Test accuracy: 0.9096446704743477\n"
     ]
    }
   ],
   "source": [
    "# Test the model\n",
    "score = model_Alex.evaluate(X_test, Y_test, verbose=0)\n",
    "print('Test loss:', score[0])\n",
    "print('Test accuracy:', score[1])"
   ]
  },
  {
   "cell_type": "code",
   "execution_count": 18,
   "metadata": {
    "scrolled": false
   },
   "outputs": [
    {
     "data": {
      "text/html": [
       "<div>\n",
       "<style scoped>\n",
       "    .dataframe tbody tr th:only-of-type {\n",
       "        vertical-align: middle;\n",
       "    }\n",
       "\n",
       "    .dataframe tbody tr th {\n",
       "        vertical-align: top;\n",
       "    }\n",
       "\n",
       "    .dataframe thead th {\n",
       "        text-align: right;\n",
       "    }\n",
       "</style>\n",
       "<table border=\"1\" class=\"dataframe\">\n",
       "  <thead>\n",
       "    <tr style=\"text-align: right;\">\n",
       "      <th></th>\n",
       "      <th>acc</th>\n",
       "      <th>loss</th>\n",
       "      <th>lr</th>\n",
       "      <th>val_acc</th>\n",
       "      <th>val_loss</th>\n",
       "    </tr>\n",
       "    <tr>\n",
       "      <th>epoch</th>\n",
       "      <th></th>\n",
       "      <th></th>\n",
       "      <th></th>\n",
       "      <th></th>\n",
       "      <th></th>\n",
       "    </tr>\n",
       "  </thead>\n",
       "  <tbody>\n",
       "    <tr>\n",
       "      <th>0</th>\n",
       "      <td>0.572363</td>\n",
       "      <td>5.749606</td>\n",
       "      <td>0.001</td>\n",
       "      <td>0.347208</td>\n",
       "      <td>4.464252</td>\n",
       "    </tr>\n",
       "    <tr>\n",
       "      <th>1</th>\n",
       "      <td>0.607558</td>\n",
       "      <td>2.259928</td>\n",
       "      <td>0.001</td>\n",
       "      <td>0.628426</td>\n",
       "      <td>1.072122</td>\n",
       "    </tr>\n",
       "    <tr>\n",
       "      <th>2</th>\n",
       "      <td>0.701072</td>\n",
       "      <td>1.042534</td>\n",
       "      <td>0.001</td>\n",
       "      <td>0.721827</td>\n",
       "      <td>1.043573</td>\n",
       "    </tr>\n",
       "    <tr>\n",
       "      <th>3</th>\n",
       "      <td>0.776875</td>\n",
       "      <td>0.755101</td>\n",
       "      <td>0.001</td>\n",
       "      <td>0.736041</td>\n",
       "      <td>1.096805</td>\n",
       "    </tr>\n",
       "    <tr>\n",
       "      <th>4</th>\n",
       "      <td>0.813085</td>\n",
       "      <td>0.633900</td>\n",
       "      <td>0.001</td>\n",
       "      <td>0.764467</td>\n",
       "      <td>0.976825</td>\n",
       "    </tr>\n",
       "  </tbody>\n",
       "</table>\n",
       "</div>"
      ],
      "text/plain": [
       "            acc      loss     lr   val_acc  val_loss\n",
       "epoch                                               \n",
       "0      0.572363  5.749606  0.001  0.347208  4.464252\n",
       "1      0.607558  2.259928  0.001  0.628426  1.072122\n",
       "2      0.701072  1.042534  0.001  0.721827  1.043573\n",
       "3      0.776875  0.755101  0.001  0.736041  1.096805\n",
       "4      0.813085  0.633900  0.001  0.764467  0.976825"
      ]
     },
     "execution_count": 18,
     "metadata": {},
     "output_type": "execute_result"
    }
   ],
   "source": [
    "df = pd.read_csv('AlexNet.csv', index_col='epoch')\n",
    "df.head()"
   ]
  },
  {
   "cell_type": "code",
   "execution_count": 19,
   "metadata": {},
   "outputs": [],
   "source": [
    "import seaborn as sns\n",
    "from IPython.display import display\n",
    "%matplotlib inline"
   ]
  },
  {
   "cell_type": "code",
   "execution_count": 20,
   "metadata": {
    "scrolled": false
   },
   "outputs": [
    {
     "data": {
      "text/plain": [
       "<matplotlib.axes._subplots.AxesSubplot at 0x7ff2119fc160>"
      ]
     },
     "metadata": {},
     "output_type": "display_data"
    },
    {
     "data": {
      "image/png": "[encoded data removed]",
      "text/plain": [
       "<matplotlib.figure.Figure at 0x7ff211a539e8>"
      ]
     },
     "metadata": {},
     "output_type": "display_data"
    }
   ],
   "source": [
    "display(df[['acc', 'val_acc']].plot())"
   ]
  }
 ],
 "metadata": {
  "kernelspec": {
   "display_name": "Python 3",
   "language": "python",
   "name": "python3"
  },
  "language_info": {
   "codemirror_mode": {
    "name": "ipython",
    "version": 3
   },
   "file_extension": ".py",
   "mimetype": "text/x-python",
   "name": "python",
   "nbconvert_exporter": "python",
   "pygments_lexer": "ipython3",
   "version": "3.6.3"
  }
 },
 "nbformat": 4,
 "nbformat_minor": 2
}
